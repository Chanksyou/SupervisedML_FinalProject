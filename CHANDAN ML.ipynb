{
 "cells": [
  {
   "cell_type": "markdown",
   "metadata": {},
   "source": [
    "One dataset that could be interesting to work with is the \"Titanic\" dataset, which contains information about the passengers aboard the Titanic, including their age, gender, ticket class, and whether they survived or not. One potential problem to analyze with this dataset could be predicting whether a passenger would survive or not based on their characteristics. This problem can be framed as a binary classification problem, where the goal is to predict whether a passenger would survive or not, given their input features."
   ]
  },
  {
   "cell_type": "markdown",
   "metadata": {},
   "source": [
    "Cleaning the Titanic dataset involves several steps to ensure that the data is accurate, complete, and consistent. Here are some steps that you can follow to clean the Titanic dataset:\n",
    "\n",
    "Remove irrelevant columns: Remove columns that are not useful for the analysis, such as PassengerId, Name, and Ticket.\n",
    "\n",
    "Handle missing values: Check for missing values in the dataset and decide how to handle them. For example, if a significant percentage of the data is missing in a column, you might want to remove that column. If only a few rows have missing values, you could either remove those rows or impute the missing values with a reasonable value, such as the median or mean of the column.\n",
    "\n",
    "Check for outliers: Check for any values that are significantly different from the rest of the data, and decide whether to remove them or keep them.\n",
    "\n",
    "Standardize the data: Check for inconsistent data formats and convert them to a standard format. For example, if the data contains dates in different formats, convert them to a standard date format.\n",
    "\n",
    "Encode categorical variables: Convert categorical variables to numerical variables using encoding techniques such as one-hot encoding or label encoding.\n",
    "\n",
    "Normalize the data: Normalize the data to ensure that the features have the same scale. This can improve the performance of some machine learning models.\n",
    "\n",
    "Verify data integrity: Verify that the data is accurate and consistent. For example, check that the age of the passengers is reasonable, and that the number of siblings and spouses is consistent with the number of parents and children.\n",
    "\n",
    "By following these steps, you can clean the Titanic dataset and prepare it for further analysis and modeling."
   ]
  },
  {
   "cell_type": "code",
   "execution_count": 9,
   "metadata": {},
   "outputs": [
    {
     "data": {
      "text/html": [
       "<div>\n",
       "<style scoped>\n",
       "    .dataframe tbody tr th:only-of-type {\n",
       "        vertical-align: middle;\n",
       "    }\n",
       "\n",
       "    .dataframe tbody tr th {\n",
       "        vertical-align: top;\n",
       "    }\n",
       "\n",
       "    .dataframe thead th {\n",
       "        text-align: right;\n",
       "    }\n",
       "</style>\n",
       "<table border=\"1\" class=\"dataframe\">\n",
       "  <thead>\n",
       "    <tr style=\"text-align: right;\">\n",
       "      <th></th>\n",
       "      <th>PassengerId</th>\n",
       "      <th>Survived</th>\n",
       "      <th>Pclass</th>\n",
       "      <th>Name</th>\n",
       "      <th>Sex</th>\n",
       "      <th>Age</th>\n",
       "      <th>SibSp</th>\n",
       "      <th>Parch</th>\n",
       "      <th>Ticket</th>\n",
       "      <th>Fare</th>\n",
       "      <th>Cabin</th>\n",
       "      <th>Embarked</th>\n",
       "    </tr>\n",
       "  </thead>\n",
       "  <tbody>\n",
       "    <tr>\n",
       "      <th>0</th>\n",
       "      <td>1</td>\n",
       "      <td>0</td>\n",
       "      <td>3</td>\n",
       "      <td>Braund, Mr. Owen Harris</td>\n",
       "      <td>male</td>\n",
       "      <td>22.0</td>\n",
       "      <td>1</td>\n",
       "      <td>0</td>\n",
       "      <td>A/5 21171</td>\n",
       "      <td>7.2500</td>\n",
       "      <td>NaN</td>\n",
       "      <td>S</td>\n",
       "    </tr>\n",
       "    <tr>\n",
       "      <th>1</th>\n",
       "      <td>2</td>\n",
       "      <td>1</td>\n",
       "      <td>1</td>\n",
       "      <td>Cumings, Mrs. John Bradley (Florence Briggs Th...</td>\n",
       "      <td>female</td>\n",
       "      <td>38.0</td>\n",
       "      <td>1</td>\n",
       "      <td>0</td>\n",
       "      <td>PC 17599</td>\n",
       "      <td>71.2833</td>\n",
       "      <td>C85</td>\n",
       "      <td>C</td>\n",
       "    </tr>\n",
       "    <tr>\n",
       "      <th>2</th>\n",
       "      <td>3</td>\n",
       "      <td>1</td>\n",
       "      <td>3</td>\n",
       "      <td>Heikkinen, Miss. Laina</td>\n",
       "      <td>female</td>\n",
       "      <td>26.0</td>\n",
       "      <td>0</td>\n",
       "      <td>0</td>\n",
       "      <td>STON/O2. 3101282</td>\n",
       "      <td>7.9250</td>\n",
       "      <td>NaN</td>\n",
       "      <td>S</td>\n",
       "    </tr>\n",
       "    <tr>\n",
       "      <th>3</th>\n",
       "      <td>4</td>\n",
       "      <td>1</td>\n",
       "      <td>1</td>\n",
       "      <td>Futrelle, Mrs. Jacques Heath (Lily May Peel)</td>\n",
       "      <td>female</td>\n",
       "      <td>35.0</td>\n",
       "      <td>1</td>\n",
       "      <td>0</td>\n",
       "      <td>113803</td>\n",
       "      <td>53.1000</td>\n",
       "      <td>C123</td>\n",
       "      <td>S</td>\n",
       "    </tr>\n",
       "    <tr>\n",
       "      <th>4</th>\n",
       "      <td>5</td>\n",
       "      <td>0</td>\n",
       "      <td>3</td>\n",
       "      <td>Allen, Mr. William Henry</td>\n",
       "      <td>male</td>\n",
       "      <td>35.0</td>\n",
       "      <td>0</td>\n",
       "      <td>0</td>\n",
       "      <td>373450</td>\n",
       "      <td>8.0500</td>\n",
       "      <td>NaN</td>\n",
       "      <td>S</td>\n",
       "    </tr>\n",
       "  </tbody>\n",
       "</table>\n",
       "</div>"
      ],
      "text/plain": [
       "   PassengerId  Survived  Pclass  \\\n",
       "0            1         0       3   \n",
       "1            2         1       1   \n",
       "2            3         1       3   \n",
       "3            4         1       1   \n",
       "4            5         0       3   \n",
       "\n",
       "                                                Name     Sex   Age  SibSp  \\\n",
       "0                            Braund, Mr. Owen Harris    male  22.0      1   \n",
       "1  Cumings, Mrs. John Bradley (Florence Briggs Th...  female  38.0      1   \n",
       "2                             Heikkinen, Miss. Laina  female  26.0      0   \n",
       "3       Futrelle, Mrs. Jacques Heath (Lily May Peel)  female  35.0      1   \n",
       "4                           Allen, Mr. William Henry    male  35.0      0   \n",
       "\n",
       "   Parch            Ticket     Fare Cabin Embarked  \n",
       "0      0         A/5 21171   7.2500   NaN        S  \n",
       "1      0          PC 17599  71.2833   C85        C  \n",
       "2      0  STON/O2. 3101282   7.9250   NaN        S  \n",
       "3      0            113803  53.1000  C123        S  \n",
       "4      0            373450   8.0500   NaN        S  "
      ]
     },
     "execution_count": 9,
     "metadata": {},
     "output_type": "execute_result"
    }
   ],
   "source": [
    "import pandas as pd\n",
    "import numpy as np\n",
    "url = \"https://raw.githubusercontent.com/datasciencedojo/datasets/master/titanic.csv\"\n",
    "df = pd.read_csv(url)\n",
    "df.head()"
   ]
  },
  {
   "cell_type": "markdown",
   "metadata": {},
   "source": [
    "# Data Cleaning\n",
    "From an initial inspection of the data I can see that there are columns we do not need such as passangetId, Name and Ticket.  There are also null values in this data. "
   ]
  },
  {
   "cell_type": "code",
   "execution_count": 10,
   "metadata": {},
   "outputs": [],
   "source": [
    "#Remove unwanted columns from dataframe\n",
    "df.drop(['PassengerId', 'Name', 'Ticket'], axis = 1, inplace = True)"
   ]
  },
  {
   "cell_type": "code",
   "execution_count": 11,
   "metadata": {},
   "outputs": [
    {
     "name": "stdout",
     "output_type": "stream",
     "text": [
      "Survived 0 0\n",
      "Pclass 0 0\n",
      "Sex 0 0\n",
      "Age 177 0\n",
      "SibSp 0 0\n",
      "Parch 0 0\n",
      "Fare 0 0\n",
      "Cabin 687 0\n",
      "Embarked 2 0\n"
     ]
    }
   ],
   "source": [
    "#Remove null values from dataframe\n",
    "a = [np.nan, None, [], {}, 'NaN', 'Null','NULL','None','NA','?','-', '.','', ' ', '   ']\n",
    "nulldemo = pd.DataFrame(a)\n",
    "# prints number of null values detected by .isnull() and string none\n",
    "for c in df.columns:\n",
    "    string_null = np.array([x in a[2:] for x in df[c]])\n",
    "    print(c, df[c].isnull().sum(), string_null.sum()) \n",
    "# Since most of the cabin values are null we will remove the cabin column\n",
    "df.drop(['Cabin'], axis = 1, inplace = True)\n"
   ]
  },
  {
   "cell_type": "code",
   "execution_count": 12,
   "metadata": {},
   "outputs": [
    {
     "data": {
      "image/png": "[encoded data removed]",
      "text/plain": [
       "<Figure size 432x288 with 1 Axes>"
      ]
     },
     "metadata": {
      "needs_background": "light"
     },
     "output_type": "display_data"
    }
   ],
   "source": [
    "# The \"Age\" feature is also missing more than 10% of values but since it seems like an important feature, we should not drop it.\n",
    "#Instead we will impute \n",
    "# plot a histogram of the Age column\n",
    "import matplotlib.pyplot as plt\n",
    "plt.hist(df['Age'], bins=20)\n",
    "plt.xlabel('Age')\n",
    "plt.ylabel('Frequency')\n",
    "plt.title('Age Distribution')\n",
    "plt.show()"
   ]
  },
  {
   "cell_type": "code",
   "execution_count": 13,
   "metadata": {},
   "outputs": [],
   "source": [
    "#Since the age distribution seems skewed, \n",
    "# we will use the median value of of Age and replace the nan values with the median value.\n",
    "# calculate the median age\n",
    "median_age = df['Age'].median()\n",
    "# replace the NaN values with the median age\n",
    "df['Age'].fillna(median_age, inplace=True)\n",
    "# Move the two rows with nan values in the Embarked column\n",
    "df.dropna(subset=['Embarked'], inplace=True)"
   ]
  },
  {
   "cell_type": "code",
   "execution_count": 14,
   "metadata": {},
   "outputs": [
    {
     "data": {
      "image/png": "[encoded data removed]",
      "text/plain": [
       "<Figure size 432x288 with 1 Axes>"
      ]
     },
     "metadata": {
      "needs_background": "light"
     },
     "output_type": "display_data"
    },
    {
     "name": "stdout",
     "output_type": "stream",
     "text": [
      "Age outliers:\n",
      "      Age\n",
      "0    2.00\n",
      "1   58.00\n",
      "2   55.00\n",
      "3    2.00\n",
      "4   66.00\n",
      "..    ...\n",
      "60   2.00\n",
      "61   1.00\n",
      "62   0.83\n",
      "63  74.00\n",
      "64  56.00\n",
      "\n",
      "[65 rows x 1 columns]\n"
     ]
    }
   ],
   "source": [
    "import statsmodels.api as sm\n",
    "# create a boxplot of the Age column\n",
    "plt.boxplot(df['Age'].dropna())\n",
    "plt.title('Boxplot of Age')\n",
    "plt.show()\n",
    "\n",
    "# identify outliers in the Age column using Tukey's method\n",
    "q1, q3 = df['Age'].quantile([0.25, 0.75])\n",
    "iqr = q3 - q1\n",
    "age_outliers = df[(df['Age'] < q1 - 1.5*iqr) | (df['Age'] > q3 + 1.5*iqr)]\n",
    "age_outliers = age_outliers.reset_index(drop=True) # reset the index to avoid KeyError\n",
    "print('Age outliers:')\n",
    "print(age_outliers[['Age']])\n",
    "#while there are 64 age outliers, it does not seem right to remove them.\n"
   ]
  },
  {
   "cell_type": "code",
   "execution_count": 15,
   "metadata": {},
   "outputs": [
    {
     "data": {
      "image/png": "[encoded data removed]",
      "text/plain": [
       "<Figure size 432x288 with 1 Axes>"
      ]
     },
     "metadata": {
      "needs_background": "light"
     },
     "output_type": "display_data"
    },
    {
     "name": "stdout",
     "output_type": "stream",
     "text": [
      "Fare outliers:\n",
      "0     21.0750\n",
      "1     26.5500\n",
      "2     16.0000\n",
      "3     29.1250\n",
      "4     10.5000\n",
      "       ...   \n",
      "60    39.6875\n",
      "61    37.0042\n",
      "62    18.7500\n",
      "63     7.7750\n",
      "64    83.1583\n",
      "Name: Fare, Length: 65, dtype: float64\n",
      "     Survived  Pclass     Sex   Age  SibSp  Parch      Fare Embarked\n",
      "258         1       1  female  35.0      0      0  512.3292        C\n",
      "679         1       1    male  36.0      0      1  512.3292        C\n",
      "737         1       1    male  35.0      0      0  512.3292        C\n"
     ]
    }
   ],
   "source": [
    "#Lets look at the fare column next\n",
    "# create a boxplot of the fare column\n",
    "plt.boxplot(df['Fare'])\n",
    "plt.title('Boxplot of fare')\n",
    "plt.show()\n",
    "\n",
    "# identify outliers in the Age column using Tukey's method\n",
    "q1, q3 = df['Fare'].quantile([0.25, 0.75])\n",
    "iqr = q3 - q1\n",
    "fare_outliers = df[(df['Fare'] < q1 - 1.5*iqr) | (df['Fare'] > q3 + 1.5*iqr)]\n",
    "fare_outliers = age_outliers.reset_index(drop=True) # reset the index to avoid KeyError\n",
    "print('Fare outliers:')\n",
    "print(fare_outliers['Fare'])\n",
    "# Seems like there is  extreme outliers in fare that is much much higher than all the rest of the values.  We will remove \n",
    "# That value and replace it with the average value of Fare\n",
    "# Select the rows where the 'Fare' column is greater than 400\n",
    "high_fare_rows = df.loc[df['Fare'] > 400]\n",
    "\n",
    "# Replace the fare values in the selected rows with the average fare\n",
    "avg_fare = df.loc[df['Fare'] > 400, 'Fare']\n",
    "\n",
    "# Verify that the replacement was made\n",
    "print(df.loc[df['Fare'] > 400])\n"
   ]
  },
  {
   "cell_type": "code",
   "execution_count": 16,
   "metadata": {},
   "outputs": [],
   "source": [
    "# Next lets combine the SibSp and Parch columns and create a new feature called FamilySize.  This will be easier to analyze.\n",
    "df['FamilySize'] = df['SibSp'] + df['Parch']\n",
    "# Next lets remove the SibSp and Parch columns\n",
    "df.drop(['SibSp', 'Parch'], axis = 1, inplace = True)\n"
   ]
  },
  {
   "cell_type": "markdown",
   "metadata": {},
   "source": [
    "#  EDA\n",
    "Next we can begin doing exploratory data analysis (EDA) on this data.  We can Start by looking at all the distributions of the features."
   ]
  },
  {
   "cell_type": "code",
   "execution_count": 17,
   "metadata": {},
   "outputs": [
    {
     "data": {
      "image/png": "[encoded data removed]",
      "text/plain": [
       "<Figure size 432x288 with 1 Axes>"
      ]
     },
     "metadata": {
      "needs_background": "light"
     },
     "output_type": "display_data"
    }
   ],
   "source": [
    "import seaborn as sns\n",
    "sns.countplot(x='Embarked', data=df)\n",
    "plt.title('Embarked Distribution')\n",
    "plt.xlabel('Embarked')\n",
    "plt.ylabel('Count')\n",
    "plt.show()"
   ]
  },
  {
   "cell_type": "code",
   "execution_count": 18,
   "metadata": {},
   "outputs": [
    {
     "data": {
      "image/png": "[encoded data removed]",
      "text/plain": [
       "<Figure size 432x288 with 1 Axes>"
      ]
     },
     "metadata": {
      "needs_background": "light"
     },
     "output_type": "display_data"
    }
   ],
   "source": [
    "plt.hist(df['Age'], bins=20)\n",
    "plt.title('Age Distribution')\n",
    "plt.xlabel('Age')\n",
    "plt.ylabel('Count')\n",
    "plt.show()"
   ]
  },
  {
   "cell_type": "code",
   "execution_count": 19,
   "metadata": {},
   "outputs": [
    {
     "data": {
      "image/png": "[encoded data removed]",
      "text/plain": [
       "<Figure size 432x288 with 1 Axes>"
      ]
     },
     "metadata": {
      "needs_background": "light"
     },
     "output_type": "display_data"
    }
   ],
   "source": [
    "plt.hist(df['FamilySize'], bins=20)\n",
    "plt.title('Family Size Distribution')\n",
    "plt.xlabel('Family Size')\n",
    "plt.ylabel('Count')\n",
    "plt.show()"
   ]
  },
  {
   "cell_type": "code",
   "execution_count": 20,
   "metadata": {},
   "outputs": [
    {
     "data": {
      "image/png": "[encoded data removed]",
      "text/plain": [
       "<Figure size 432x288 with 1 Axes>"
      ]
     },
     "metadata": {
      "needs_background": "light"
     },
     "output_type": "display_data"
    }
   ],
   "source": [
    "plt.hist(df['Fare'], bins=20)\n",
    "plt.title('Fare Distribution')\n",
    "plt.xlabel('Fare')\n",
    "plt.ylabel('Count')\n",
    "plt.show()"
   ]
  },
  {
   "cell_type": "code",
   "execution_count": 21,
   "metadata": {},
   "outputs": [
    {
     "data": {
      "image/png": "[encoded data removed]",
      "text/plain": [
       "<Figure size 432x288 with 1 Axes>"
      ]
     },
     "metadata": {
      "needs_background": "light"
     },
     "output_type": "display_data"
    }
   ],
   "source": [
    "sns.countplot(x='Sex', data=df)\n",
    "plt.title('Gender Distribution')\n",
    "plt.xlabel('Gender')\n",
    "plt.ylabel('Count')\n",
    "plt.show()"
   ]
  },
  {
   "cell_type": "code",
   "execution_count": 22,
   "metadata": {},
   "outputs": [
    {
     "data": {
      "image/png": "[encoded data removed]",
      "text/plain": [
       "<Figure size 432x288 with 2 Axes>"
      ]
     },
     "metadata": {
      "needs_background": "light"
     },
     "output_type": "display_data"
    }
   ],
   "source": [
    "# Calculate the correlation matrix\n",
    "corr_matrix = df.corr()\n",
    "\n",
    "# Create a heatmap to visualize the correlation matrix\n",
    "sns.heatmap(corr_matrix, annot=True, cmap='coolwarm')\n",
    "plt.title('Correlation Heatmap')\n",
    "\n",
    "plt.show()"
   ]
  },
  {
   "cell_type": "markdown",
   "metadata": {},
   "source": [
    "The correlation heatmap shows us that the only features that are correlated is Pclass (Ticket class) and Fare.  Which makes sense, since higher fares should mean a lower class (1st class pays the most).\n"
   ]
  },
  {
   "cell_type": "code",
   "execution_count": 23,
   "metadata": {},
   "outputs": [],
   "source": [
    "#sns.pairplot(df[['Survived', 'Pclass', 'Sex', 'Age', 'Fare', 'Embarked']])\n",
    "#the pair-plot does not tell us much that what we already know."
   ]
  },
  {
   "cell_type": "markdown",
   "metadata": {},
   "source": [
    "# Analysis (Model Building and Training)\n",
    "Next we will start building our model, we start first by creating our test and training sets.  Since there is a couple of options to model this data, first we will try logistic regression since our response variabe can only have two options (1 or 0)"
   ]
  },
  {
   "cell_type": "code",
   "execution_count": 24,
   "metadata": {},
   "outputs": [
    {
     "name": "stdout",
     "output_type": "stream",
     "text": [
      "Accuracy: 0.7808988764044944\n",
      "      feature      coef\n",
      "7  Embarked_S  2.227239\n",
      "4        Fare  0.816222\n",
      "5  Embarked_C  0.658135\n",
      "6  Embarked_Q  0.320693\n",
      "2    Sex_male  0.002572\n",
      "1  Sex_female -0.039100\n",
      "3         Age -0.228347\n",
      "8  FamilySize -0.432189\n",
      "0      Pclass -1.049643\n"
     ]
    }
   ],
   "source": [
    "from sklearn.model_selection import train_test_split\n",
    "from sklearn.linear_model import LogisticRegression\n",
    "from sklearn.metrics import accuracy_score\n",
    "df = pd.get_dummies(df, columns=['Embarked'])\n",
    "df = pd.get_dummies(df, columns=['Sex'])\n",
    "\n",
    "X = df.drop('Survived', axis=1)  # select all columns except 'Survived' as features\n",
    "y = df['Survived']  # select 'Survived' as the target variable\n",
    "# One-hot encode 'Embarked' column\n",
    "\n",
    "# split the data into training and test sets with a 80-20 split\n",
    "X_train, X_test, y_train, y_test = train_test_split(X, y, test_size=0.2, random_state=42)\n",
    "\n",
    "features = ['Pclass', 'Sex_female', 'Sex_male', 'Age', 'Fare', 'Embarked_C', 'Embarked_Q', 'Embarked_S', 'FamilySize']\n",
    "# Creating the logistic regression model\n",
    "model = LogisticRegression()\n",
    "\n",
    "# Training the model on the training set\n",
    "model.fit(X_train, y_train)\n",
    "# Making predictions on the test set\n",
    "y_pred = model.predict(X_test)\n",
    "\n",
    "# Evaluating the accuracy of the model\n",
    "accuracy = accuracy_score(y_test, y_pred)\n",
    "print('Accuracy:', accuracy)\n",
    "# Viewing the coefficients of the logistic regression model\n",
    "coef_df = pd.DataFrame({'feature': features, 'coef': model.coef_[0]})\n",
    "coef_df.sort_values('coef', ascending=False, inplace=True)\n",
    "print(coef_df)\n"
   ]
  },
  {
   "cell_type": "markdown",
   "metadata": {},
   "source": [
    "Looks like The Embarked_S feature had the most impact as well as the Fare and Pclass.  Lets take a look at the P-values:"
   ]
  },
  {
   "cell_type": "code",
   "execution_count": 25,
   "metadata": {},
   "outputs": [
    {
     "name": "stdout",
     "output_type": "stream",
     "text": [
      "Optimization terminated successfully.\n",
      "         Current function value: 0.442439\n",
      "         Iterations 6\n",
      "                           Logit Regression Results                           \n",
      "==============================================================================\n",
      "Dep. Variable:               Survived   No. Observations:                  889\n",
      "Model:                          Logit   Df Residuals:                      881\n",
      "Method:                           MLE   Df Model:                            7\n",
      "Date:                Mon, 24 Apr 2023   Pseudo R-squ.:                  0.3349\n",
      "Time:                        19:50:24   Log-Likelihood:                -393.33\n",
      "converged:                       True   LL-Null:                       -591.41\n",
      "Covariance Type:            nonrobust   LLR p-value:                 1.588e-81\n",
      "==============================================================================\n",
      "                 coef    std err          z      P>|z|      [0.025      0.975]\n",
      "------------------------------------------------------------------------------\n",
      "Pclass        -1.0910      0.143     -7.614      0.000      -1.372      -0.810\n",
      "Age           -0.0387      0.008     -4.938      0.000      -0.054      -0.023\n",
      "Fare           0.0021      0.002      0.885      0.376      -0.003       0.007\n",
      "FamilySize    -0.2189      0.068     -3.226      0.001      -0.352      -0.086\n",
      "Embarked_C     1.6488   1.22e+07   1.36e-07      1.000   -2.38e+07    2.38e+07\n",
      "Embarked_Q     1.5542   1.22e+07   1.28e-07      1.000   -2.38e+07    2.38e+07\n",
      "Embarked_S     1.2233   1.22e+07   1.01e-07      1.000   -2.38e+07    2.38e+07\n",
      "Sex_female     3.5829   1.22e+07   2.95e-07      1.000   -2.38e+07    2.38e+07\n",
      "Sex_male       0.8435   1.22e+07   6.94e-08      1.000   -2.38e+07    2.38e+07\n",
      "==============================================================================\n"
     ]
    }
   ],
   "source": [
    "logit_model = sm.Logit(y, X)\n",
    "result = logit_model.fit()\n",
    "# print p-values of features\n",
    "print(result.summary())"
   ]
  },
  {
   "cell_type": "code",
   "execution_count": 26,
   "metadata": {},
   "outputs": [],
   "source": [
    "#Since Fare has a high P-value and is also essentially the same as Pclass, \n",
    "#lets try removing Fare and retesting the accuracy of our model.\n",
    "X = df.drop(['Fare', 'Survived'], axis=1)"
   ]
  },
  {
   "cell_type": "code",
   "execution_count": 27,
   "metadata": {},
   "outputs": [
    {
     "name": "stdout",
     "output_type": "stream",
     "text": [
      "Accuracy: 0.7752808988764045\n"
     ]
    },
    {
     "data": {
      "text/html": [
       "<div>\n",
       "<style scoped>\n",
       "    .dataframe tbody tr th:only-of-type {\n",
       "        vertical-align: middle;\n",
       "    }\n",
       "\n",
       "    .dataframe tbody tr th {\n",
       "        vertical-align: top;\n",
       "    }\n",
       "\n",
       "    .dataframe thead th {\n",
       "        text-align: right;\n",
       "    }\n",
       "</style>\n",
       "<table border=\"1\" class=\"dataframe\">\n",
       "  <thead>\n",
       "    <tr style=\"text-align: right;\">\n",
       "      <th></th>\n",
       "      <th>Survived</th>\n",
       "      <th>Pclass</th>\n",
       "      <th>Age</th>\n",
       "      <th>Fare</th>\n",
       "      <th>FamilySize</th>\n",
       "      <th>Embarked_C</th>\n",
       "      <th>Embarked_Q</th>\n",
       "      <th>Embarked_S</th>\n",
       "      <th>Sex_female</th>\n",
       "      <th>Sex_male</th>\n",
       "    </tr>\n",
       "  </thead>\n",
       "  <tbody>\n",
       "    <tr>\n",
       "      <th>0</th>\n",
       "      <td>0</td>\n",
       "      <td>3</td>\n",
       "      <td>22.0</td>\n",
       "      <td>7.2500</td>\n",
       "      <td>1</td>\n",
       "      <td>0</td>\n",
       "      <td>0</td>\n",
       "      <td>1</td>\n",
       "      <td>0</td>\n",
       "      <td>1</td>\n",
       "    </tr>\n",
       "    <tr>\n",
       "      <th>1</th>\n",
       "      <td>1</td>\n",
       "      <td>1</td>\n",
       "      <td>38.0</td>\n",
       "      <td>71.2833</td>\n",
       "      <td>1</td>\n",
       "      <td>1</td>\n",
       "      <td>0</td>\n",
       "      <td>0</td>\n",
       "      <td>1</td>\n",
       "      <td>0</td>\n",
       "    </tr>\n",
       "    <tr>\n",
       "      <th>2</th>\n",
       "      <td>1</td>\n",
       "      <td>3</td>\n",
       "      <td>26.0</td>\n",
       "      <td>7.9250</td>\n",
       "      <td>0</td>\n",
       "      <td>0</td>\n",
       "      <td>0</td>\n",
       "      <td>1</td>\n",
       "      <td>1</td>\n",
       "      <td>0</td>\n",
       "    </tr>\n",
       "    <tr>\n",
       "      <th>3</th>\n",
       "      <td>1</td>\n",
       "      <td>1</td>\n",
       "      <td>35.0</td>\n",
       "      <td>53.1000</td>\n",
       "      <td>1</td>\n",
       "      <td>0</td>\n",
       "      <td>0</td>\n",
       "      <td>1</td>\n",
       "      <td>1</td>\n",
       "      <td>0</td>\n",
       "    </tr>\n",
       "    <tr>\n",
       "      <th>4</th>\n",
       "      <td>0</td>\n",
       "      <td>3</td>\n",
       "      <td>35.0</td>\n",
       "      <td>8.0500</td>\n",
       "      <td>0</td>\n",
       "      <td>0</td>\n",
       "      <td>0</td>\n",
       "      <td>1</td>\n",
       "      <td>0</td>\n",
       "      <td>1</td>\n",
       "    </tr>\n",
       "  </tbody>\n",
       "</table>\n",
       "</div>"
      ],
      "text/plain": [
       "   Survived  Pclass   Age     Fare  FamilySize  Embarked_C  Embarked_Q  \\\n",
       "0         0       3  22.0   7.2500           1           0           0   \n",
       "1         1       1  38.0  71.2833           1           1           0   \n",
       "2         1       3  26.0   7.9250           0           0           0   \n",
       "3         1       1  35.0  53.1000           1           0           0   \n",
       "4         0       3  35.0   8.0500           0           0           0   \n",
       "\n",
       "   Embarked_S  Sex_female  Sex_male  \n",
       "0           1           0         1  \n",
       "1           0           1         0  \n",
       "2           1           1         0  \n",
       "3           1           1         0  \n",
       "4           1           0         1  "
      ]
     },
     "execution_count": 27,
     "metadata": {},
     "output_type": "execute_result"
    }
   ],
   "source": [
    "# split the data into training and test sets with a 80-20 split\n",
    "X_train, X_test, y_train, y_test = train_test_split(X, y, test_size=0.2, random_state=42)\n",
    "\n",
    "# Creating the logistic regression model\n",
    "model = LogisticRegression()\n",
    "\n",
    "# Training the model on the training set\n",
    "model.fit(X_train, y_train)\n",
    "# Making predictions on the test set\n",
    "y_pred = model.predict(X_test)\n",
    "\n",
    "# Evaluating the accuracy of the model\n",
    "accuracy = accuracy_score(y_test, y_pred)\n",
    "print('Accuracy:', accuracy)\n",
    "df.head()"
   ]
  },
  {
   "cell_type": "code",
   "execution_count": 28,
   "metadata": {},
   "outputs": [],
   "source": [
    "#Since it did not improve accuracy, we can try the opposite and remove Pclass while keeping Fare\n",
    "X = df.drop(['Pclass', 'Survived'], axis=1)"
   ]
  },
  {
   "cell_type": "code",
   "execution_count": 29,
   "metadata": {},
   "outputs": [
    {
     "name": "stdout",
     "output_type": "stream",
     "text": [
      "Accuracy: 0.8033707865168539\n"
     ]
    }
   ],
   "source": [
    "# split the data into training and test sets with a 80-20 split\n",
    "X_train, X_test, y_train, y_test = train_test_split(X, y, test_size=0.2, random_state=42)\n",
    "\n",
    "# Creating the logistic regression model\n",
    "model = LogisticRegression()\n",
    "\n",
    "# Training the model on the training set\n",
    "model.fit(X_train, y_train)\n",
    "\n",
    "# Making predictions on the test set\n",
    "y_pred = model.predict(X_test)\n",
    "\n",
    "# Evaluating the accuracy of the model\n",
    "accuracy = accuracy_score(y_test, y_pred)\n",
    "print('Accuracy:', accuracy)"
   ]
  },
  {
   "cell_type": "markdown",
   "metadata": {},
   "source": [
    "So it seems we can improve the accuracy of our model from .7809 to .7977 by removing the Pclass feature while keeping the Fare feature."
   ]
  },
  {
   "cell_type": "code",
   "execution_count": 30,
   "metadata": {},
   "outputs": [
    {
     "data": {
      "image/png": "[encoded data removed]",
      "text/plain": [
       "<Figure size 432x288 with 1 Axes>"
      ]
     },
     "metadata": {
      "needs_background": "light"
     },
     "output_type": "display_data"
    },
    {
     "name": "stdout",
     "output_type": "stream",
     "text": [
      "Precision: 0.7428571428571429\n",
      "Recall: 0.7536231884057971\n"
     ]
    }
   ],
   "source": [
    "from sklearn.metrics import roc_auc_score\n",
    "from sklearn.metrics import roc_curve\n",
    "from sklearn.metrics import precision_score, recall_score\n",
    "\n",
    "y_prob = model.predict_proba(X_test)[:, 1]\n",
    "fpr, tpr,th = roc_curve(y_test, y_prob)\n",
    "\n",
    "# Compute the AUC\n",
    "roc_auc = roc_auc_score(y_test, y_prob)\n",
    "\n",
    "plt.plot(fpr, tpr, label=f'AUC = {roc_auc:.2f}')\n",
    "plt.xlabel('False Positive Rate')\n",
    "plt.ylabel('True Positive Rate')\n",
    "plt.title('ROC Curve')\n",
    "plt.legend(loc='lower right')\n",
    "plt.grid(True)\n",
    "plt.show()\n",
    "\n",
    "precision = precision_score(y_test, y_pred)\n",
    "recall = recall_score(y_test, y_pred)\n",
    "\n",
    "print(\"Precision:\", precision)\n",
    "print(\"Recall:\", recall)"
   ]
  },
  {
   "cell_type": "markdown",
   "metadata": {},
   "source": [
    "Next we will try to use another method to try and achieve a higher accuracy if possible.  The method we will try next is the random forest method.  First we want to look for the best set of hyperparameters for our random forest.  For this we will uise grid search and perform cross-validation."
   ]
  },
  {
   "cell_type": "code",
   "execution_count": 32,
   "metadata": {},
   "outputs": [
    {
     "name": "stdout",
     "output_type": "stream",
     "text": [
      "Best parameters:  {'max_depth': 20, 'min_samples_leaf': 4, 'min_samples_split': 5, 'n_estimators': 300}\n",
      "Best score:  0.8368364030335862\n"
     ]
    }
   ],
   "source": [
    "from sklearn.ensemble import RandomForestClassifier\n",
    "from sklearn.model_selection import GridSearchCV\n",
    "\n",
    "# Define the hyperparameters to search over\n",
    "param_grid = {'n_estimators': [100, 200, 300],\n",
    "              'max_depth': [5, 10, 20, None],\n",
    "              'min_samples_split': [2, 5, 10],\n",
    "              'min_samples_leaf': [1, 2, 4]}\n",
    "\n",
    "# Create a random forest classifier\n",
    "rf = RandomForestClassifier()\n",
    "\n",
    "# Perform grid search with 5-fold cross-validation\n",
    "grid_search = GridSearchCV(rf, param_grid, cv=5)\n",
    "\n",
    "# Fit the grid search to the training data\n",
    "grid_search.fit(X_train, y_train)\n",
    "\n",
    "# Print the best parameters and best score\n",
    "print(\"Best parameters: \", grid_search.best_params_)\n",
    "print(\"Best score: \", grid_search.best_score_)"
   ]
  },
  {
   "cell_type": "markdown",
   "metadata": {},
   "source": [
    "From this we can see that the best hyper-paramter values are 20 for max depth, and 4 for mininum number of samples required to be at a leaf node, 300 trees for estimation, and minimum of 2 sammples required to split an internal node.  Using this we obtain the following accuracy:"
   ]
  },
  {
   "cell_type": "code",
   "execution_count": 33,
   "metadata": {},
   "outputs": [
    {
     "name": "stdout",
     "output_type": "stream",
     "text": [
      "Accuracy: 0.8033707865168539\n"
     ]
    }
   ],
   "source": [
    "# Create the random forest classifier\n",
    "rfc = RandomForestClassifier(n_estimators=300, max_depth=20, min_samples_split=2, min_samples_leaf=4)\n",
    "# Fit the model to the training data\n",
    "rfc.fit(X_train, y_train)\n",
    "# Predict on the test set\n",
    "y_pred = rfc.predict(X_test)\n",
    "\n",
    "# Evaluate the model\n",
    "accuracy = accuracy_score(y_test, y_pred)\n",
    "print(\"Accuracy:\", accuracy)"
   ]
  },
  {
   "cell_type": "markdown",
   "metadata": {},
   "source": [
    "So with an accuracy of .8033, it seems the random forest classifier is better at predicting the survival of passengers aboard the Titanic, given thier Age, Passenger Class, Fare Paid,  Family Size, Sex, and Embarking City."
   ]
  },
  {
   "cell_type": "code",
   "execution_count": null,
   "metadata": {},
   "outputs": [],
   "source": []
  }
 ],
 "metadata": {
  "kernelspec": {
   "display_name": "Python 3",
   "language": "python",
   "name": "python3"
  },
  "language_info": {
   "codemirror_mode": {
    "name": "ipython",
    "version": 3
   },
   "file_extension": ".py",
   "mimetype": "text/x-python",
   "name": "python",
   "nbconvert_exporter": "python",
   "pygments_lexer": "ipython3",
   "version": "3.7.6"
  }
 },
 "nbformat": 4,
 "nbformat_minor": 4
}
